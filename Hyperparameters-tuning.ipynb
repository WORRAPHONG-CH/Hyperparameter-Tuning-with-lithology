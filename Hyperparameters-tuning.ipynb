{
 "cells": [
  {
   "cell_type": "markdown",
   "metadata": {},
   "source": [
    "# Hyperparameter Optimization"
   ]
  },
  {
   "cell_type": "code",
   "execution_count": null,
   "metadata": {
    "ExecuteTime": {
     "end_time": "2021-05-14T11:38:38.886330Z",
     "start_time": "2021-05-14T11:38:37.880643Z"
    }
   },
   "outputs": [],
   "source": [
    "import pandas as pd\n",
    "import numpy as np"
   ]
  },
  {
   "cell_type": "markdown",
   "metadata": {},
   "source": [
    "we are working with geological well data from <a href='www.iodp.org'>the ocean drilling program<a>. We will try to predict a lithologic name from downhole measurement data. <a href='https://iodp.tamu.edu/labs/ship/Cdeck_downhole.html'>Downhold measurements</a> are done on drilling vessel to supplement or replace coring information: cores are rarely complete, and sometimes are not collected because coring is an expensive process. Instead, a series of measurement tools is sent down the drilling pipe on a cable (a 'string') and collects measurement values from the rock formation.\n",
    "<br>\n",
    "![downhole_lab](https://iodp.tamu.edu/labs/ship/photos/dhml.jpg)\n",
    "<br>\n",
    "This particular data comes from IODP Expedition 317, offshore the Canterbury Basin of New Zealand. It consists of downhole measurements of spectral gamma ray and resistivity of the formation. We also have a high-resolution core description datasets that can be used as the label for the downhole log data.\n",
    "\n",
    "The features in this dataset are as follow:\n",
    "* **Depth_WMSF**: depth of measurements below seafloor for the logging string\n",
    "* **HCGR**: Total gamma ray measurement, a bulk measure of radioactivity in the rock\n",
    "* **HFK**: Gamma-ray value associated with potassium: a good proxy for clay mineral content   \n",
    "* **HTHO**: Gamma-ray value associated with thorium: another proxy for mineral content\n",
    "* **HURA**: Gamma-ray value associated with uranium: mostly associated with organic matter or phosphorus\n",
    "* **HFK**: Gamma-ray value associated with potassium: a good proxy for clay mineral content\n",
    "* **IDPH**: Deep induction log from the Phasor Dual Induction–Spherically Focused Resistivity Tool\n",
    "* **IMPH**: Medium induction log from the Phasor Dual Induction–Spherically Focused Resistivity Tool\n",
    "* **SFLU**: Shallow induction log from the Phasor Dual Induction–Spherically Focused Resistivity Tool\n",
    "\n",
    "The goal will be to fit the best KNN Classifier. And in particular, how many \"neighbors\" (\"K\" in KNN) should consider to best predict lithology from logs?"
   ]
  },
  {
   "cell_type": "markdown",
   "metadata": {},
   "source": [
    "## Load the data and encode lithology\n"
   ]
  },
  {
   "cell_type": "code",
   "execution_count": 947,
   "metadata": {},
   "outputs": [
    {
     "data": {
      "text/html": [
       "<div>\n",
       "<style scoped>\n",
       "    .dataframe tbody tr th:only-of-type {\n",
       "        vertical-align: middle;\n",
       "    }\n",
       "\n",
       "    .dataframe tbody tr th {\n",
       "        vertical-align: top;\n",
       "    }\n",
       "\n",
       "    .dataframe thead th {\n",
       "        text-align: right;\n",
       "    }\n",
       "</style>\n",
       "<table border=\"1\" class=\"dataframe\">\n",
       "  <thead>\n",
       "    <tr style=\"text-align: right;\">\n",
       "      <th></th>\n",
       "      <th>DEPTH_WMSF</th>\n",
       "      <th>HCGR</th>\n",
       "      <th>HFK</th>\n",
       "      <th>HTHO</th>\n",
       "      <th>HURA</th>\n",
       "      <th>IDPH</th>\n",
       "      <th>IMPH</th>\n",
       "      <th>SFLU</th>\n",
       "      <th>lithology</th>\n",
       "    </tr>\n",
       "  </thead>\n",
       "  <tbody>\n",
       "    <tr>\n",
       "      <th>0</th>\n",
       "      <td>0.0880</td>\n",
       "      <td>1.9945</td>\n",
       "      <td>0.0354</td>\n",
       "      <td>0.4317</td>\n",
       "      <td>0.0501</td>\n",
       "      <td>1950.0000</td>\n",
       "      <td>1950.0000</td>\n",
       "      <td>0.1589</td>\n",
       "      <td>Interbedded sand and mud</td>\n",
       "    </tr>\n",
       "    <tr>\n",
       "      <th>1</th>\n",
       "      <td>0.2404</td>\n",
       "      <td>3.4090</td>\n",
       "      <td>0.0708</td>\n",
       "      <td>0.6778</td>\n",
       "      <td>0.0352</td>\n",
       "      <td>1950.0000</td>\n",
       "      <td>1950.0000</td>\n",
       "      <td>0.1589</td>\n",
       "      <td>Interbedded sand and mud</td>\n",
       "    </tr>\n",
       "    <tr>\n",
       "      <th>2</th>\n",
       "      <td>0.3928</td>\n",
       "      <td>5.6734</td>\n",
       "      <td>0.1203</td>\n",
       "      <td>1.1137</td>\n",
       "      <td>0.1518</td>\n",
       "      <td>1950.0000</td>\n",
       "      <td>1950.0000</td>\n",
       "      <td>0.1589</td>\n",
       "      <td>Interbedded sand and mud</td>\n",
       "    </tr>\n",
       "    <tr>\n",
       "      <th>3</th>\n",
       "      <td>0.5452</td>\n",
       "      <td>9.4665</td>\n",
       "      <td>0.2242</td>\n",
       "      <td>1.7213</td>\n",
       "      <td>0.0793</td>\n",
       "      <td>1950.0000</td>\n",
       "      <td>1950.0000</td>\n",
       "      <td>0.1589</td>\n",
       "      <td>Interbedded clay and mud</td>\n",
       "    </tr>\n",
       "    <tr>\n",
       "      <th>4</th>\n",
       "      <td>0.6976</td>\n",
       "      <td>9.9356</td>\n",
       "      <td>0.2286</td>\n",
       "      <td>1.8462</td>\n",
       "      <td>0.4811</td>\n",
       "      <td>1950.0000</td>\n",
       "      <td>1950.0000</td>\n",
       "      <td>0.1589</td>\n",
       "      <td>Interbedded clay and mud</td>\n",
       "    </tr>\n",
       "    <tr>\n",
       "      <th>...</th>\n",
       "      <td>...</td>\n",
       "      <td>...</td>\n",
       "      <td>...</td>\n",
       "      <td>...</td>\n",
       "      <td>...</td>\n",
       "      <td>...</td>\n",
       "      <td>...</td>\n",
       "      <td>...</td>\n",
       "      <td>...</td>\n",
       "    </tr>\n",
       "    <tr>\n",
       "      <th>13010</th>\n",
       "      <td>450.1252</td>\n",
       "      <td>41.8986</td>\n",
       "      <td>1.2812</td>\n",
       "      <td>5.9343</td>\n",
       "      <td>2.3948</td>\n",
       "      <td>1.1804</td>\n",
       "      <td>1.0665</td>\n",
       "      <td>0.5415</td>\n",
       "      <td>Marl</td>\n",
       "    </tr>\n",
       "    <tr>\n",
       "      <th>13011</th>\n",
       "      <td>45.2024</td>\n",
       "      <td>8.5972</td>\n",
       "      <td>0.1975</td>\n",
       "      <td>1.5990</td>\n",
       "      <td>0.2809</td>\n",
       "      <td>1950.0000</td>\n",
       "      <td>1950.0000</td>\n",
       "      <td>9700.0000</td>\n",
       "      <td>Interbedded clay and mud</td>\n",
       "    </tr>\n",
       "    <tr>\n",
       "      <th>13012</th>\n",
       "      <td>41.0448</td>\n",
       "      <td>8.3542</td>\n",
       "      <td>0.1641</td>\n",
       "      <td>1.7166</td>\n",
       "      <td>0.3087</td>\n",
       "      <td>2.5601</td>\n",
       "      <td>1950.0000</td>\n",
       "      <td>1.1648</td>\n",
       "      <td>Interbedded clay and mud</td>\n",
       "    </tr>\n",
       "    <tr>\n",
       "      <th>13013</th>\n",
       "      <td>378.3448</td>\n",
       "      <td>53.8906</td>\n",
       "      <td>1.2991</td>\n",
       "      <td>9.6742</td>\n",
       "      <td>2.5816</td>\n",
       "      <td>1.4162</td>\n",
       "      <td>1.2469</td>\n",
       "      <td>0.8535</td>\n",
       "      <td>Sandy Mud</td>\n",
       "    </tr>\n",
       "    <tr>\n",
       "      <th>13014</th>\n",
       "      <td>39.6732</td>\n",
       "      <td>10.9713</td>\n",
       "      <td>0.1958</td>\n",
       "      <td>2.3692</td>\n",
       "      <td>0.3295</td>\n",
       "      <td>2.5601</td>\n",
       "      <td>1950.0000</td>\n",
       "      <td>1.1648</td>\n",
       "      <td>Interbedded clay and mud</td>\n",
       "    </tr>\n",
       "  </tbody>\n",
       "</table>\n",
       "<p>13015 rows × 9 columns</p>\n",
       "</div>"
      ],
      "text/plain": [
       "       DEPTH_WMSF     HCGR     HFK    HTHO    HURA       IDPH       IMPH  \\\n",
       "0          0.0880   1.9945  0.0354  0.4317  0.0501  1950.0000  1950.0000   \n",
       "1          0.2404   3.4090  0.0708  0.6778  0.0352  1950.0000  1950.0000   \n",
       "2          0.3928   5.6734  0.1203  1.1137  0.1518  1950.0000  1950.0000   \n",
       "3          0.5452   9.4665  0.2242  1.7213  0.0793  1950.0000  1950.0000   \n",
       "4          0.6976   9.9356  0.2286  1.8462  0.4811  1950.0000  1950.0000   \n",
       "...           ...      ...     ...     ...     ...        ...        ...   \n",
       "13010    450.1252  41.8986  1.2812  5.9343  2.3948     1.1804     1.0665   \n",
       "13011     45.2024   8.5972  0.1975  1.5990  0.2809  1950.0000  1950.0000   \n",
       "13012     41.0448   8.3542  0.1641  1.7166  0.3087     2.5601  1950.0000   \n",
       "13013    378.3448  53.8906  1.2991  9.6742  2.5816     1.4162     1.2469   \n",
       "13014     39.6732  10.9713  0.1958  2.3692  0.3295     2.5601  1950.0000   \n",
       "\n",
       "            SFLU                  lithology  \n",
       "0         0.1589  Interbedded sand and mud   \n",
       "1         0.1589  Interbedded sand and mud   \n",
       "2         0.1589  Interbedded sand and mud   \n",
       "3         0.1589   Interbedded clay and mud  \n",
       "4         0.1589   Interbedded clay and mud  \n",
       "...          ...                        ...  \n",
       "13010     0.5415                       Marl  \n",
       "13011  9700.0000   Interbedded clay and mud  \n",
       "13012     1.1648   Interbedded clay and mud  \n",
       "13013     0.8535                  Sandy Mud  \n",
       "13014     1.1648   Interbedded clay and mud  \n",
       "\n",
       "[13015 rows x 9 columns]"
      ]
     },
     "execution_count": 947,
     "metadata": {},
     "output_type": "execute_result"
    }
   ],
   "source": [
    "# Your code below\n",
    "data = pd.read_csv(\"litho_log_data.csv\")\n",
    "\n",
    "data\n"
   ]
  },
  {
   "cell_type": "code",
   "execution_count": null,
   "metadata": {},
   "outputs": [
    {
     "name": "stdout",
     "output_type": "stream",
     "text": [
      "before 336\n",
      "DEPTH_WMSF    0\n",
      "HCGR          0\n",
      "HFK           0\n",
      "HTHO          0\n",
      "HURA          0\n",
      "IDPH          0\n",
      "IMPH          0\n",
      "SFLU          0\n",
      "lithology     0\n",
      "dtype: int64\n",
      "DEPTH_WMSF    float64\n",
      "HCGR          float64\n",
      "HFK           float64\n",
      "HTHO          float64\n",
      "HURA          float64\n",
      "IDPH          float64\n",
      "IMPH          float64\n",
      "SFLU          float64\n",
      "lithology      object\n",
      "dtype: object\n",
      "after: 336\n"
     ]
    }
   ],
   "source": [
    "# EDA (Exploratory Data Analysis)\n",
    "print(\"before\",data.duplicated().sum())\n",
    "print(data.isnull().sum().sort_values(ascending=False))\n",
    "print(data.dtypes)\n",
    "#data = data.drop_duplicates().reset_index(drop=True)\n",
    "print(\"after:\",data.duplicated().sum())"
   ]
  },
  {
   "cell_type": "code",
   "execution_count": 949,
   "metadata": {},
   "outputs": [
    {
     "name": "stdout",
     "output_type": "stream",
     "text": [
      "0        Interbedded sand and mud \n",
      "1        Interbedded sand and mud \n",
      "2        Interbedded sand and mud \n",
      "3         Interbedded clay and mud\n",
      "4         Interbedded clay and mud\n",
      "                   ...            \n",
      "13010                         Marl\n",
      "13011     Interbedded clay and mud\n",
      "13012     Interbedded clay and mud\n",
      "13013                    Sandy Mud\n",
      "13014     Interbedded clay and mud\n",
      "Name: lithology, Length: 13015, dtype: object\n"
     ]
    },
    {
     "data": {
      "text/html": [
       "<div>\n",
       "<style scoped>\n",
       "    .dataframe tbody tr th:only-of-type {\n",
       "        vertical-align: middle;\n",
       "    }\n",
       "\n",
       "    .dataframe tbody tr th {\n",
       "        vertical-align: top;\n",
       "    }\n",
       "\n",
       "    .dataframe thead th {\n",
       "        text-align: right;\n",
       "    }\n",
       "</style>\n",
       "<table border=\"1\" class=\"dataframe\">\n",
       "  <thead>\n",
       "    <tr style=\"text-align: right;\">\n",
       "      <th></th>\n",
       "      <th>DEPTH_WMSF</th>\n",
       "      <th>HCGR</th>\n",
       "      <th>HFK</th>\n",
       "      <th>HTHO</th>\n",
       "      <th>HURA</th>\n",
       "      <th>IDPH</th>\n",
       "      <th>IMPH</th>\n",
       "      <th>SFLU</th>\n",
       "    </tr>\n",
       "  </thead>\n",
       "  <tbody>\n",
       "    <tr>\n",
       "      <th>0</th>\n",
       "      <td>0.0880</td>\n",
       "      <td>1.9945</td>\n",
       "      <td>0.0354</td>\n",
       "      <td>0.4317</td>\n",
       "      <td>0.0501</td>\n",
       "      <td>1950.0000</td>\n",
       "      <td>1950.0000</td>\n",
       "      <td>0.1589</td>\n",
       "    </tr>\n",
       "    <tr>\n",
       "      <th>1</th>\n",
       "      <td>0.2404</td>\n",
       "      <td>3.4090</td>\n",
       "      <td>0.0708</td>\n",
       "      <td>0.6778</td>\n",
       "      <td>0.0352</td>\n",
       "      <td>1950.0000</td>\n",
       "      <td>1950.0000</td>\n",
       "      <td>0.1589</td>\n",
       "    </tr>\n",
       "    <tr>\n",
       "      <th>2</th>\n",
       "      <td>0.3928</td>\n",
       "      <td>5.6734</td>\n",
       "      <td>0.1203</td>\n",
       "      <td>1.1137</td>\n",
       "      <td>0.1518</td>\n",
       "      <td>1950.0000</td>\n",
       "      <td>1950.0000</td>\n",
       "      <td>0.1589</td>\n",
       "    </tr>\n",
       "    <tr>\n",
       "      <th>3</th>\n",
       "      <td>0.5452</td>\n",
       "      <td>9.4665</td>\n",
       "      <td>0.2242</td>\n",
       "      <td>1.7213</td>\n",
       "      <td>0.0793</td>\n",
       "      <td>1950.0000</td>\n",
       "      <td>1950.0000</td>\n",
       "      <td>0.1589</td>\n",
       "    </tr>\n",
       "    <tr>\n",
       "      <th>4</th>\n",
       "      <td>0.6976</td>\n",
       "      <td>9.9356</td>\n",
       "      <td>0.2286</td>\n",
       "      <td>1.8462</td>\n",
       "      <td>0.4811</td>\n",
       "      <td>1950.0000</td>\n",
       "      <td>1950.0000</td>\n",
       "      <td>0.1589</td>\n",
       "    </tr>\n",
       "    <tr>\n",
       "      <th>...</th>\n",
       "      <td>...</td>\n",
       "      <td>...</td>\n",
       "      <td>...</td>\n",
       "      <td>...</td>\n",
       "      <td>...</td>\n",
       "      <td>...</td>\n",
       "      <td>...</td>\n",
       "      <td>...</td>\n",
       "    </tr>\n",
       "    <tr>\n",
       "      <th>13010</th>\n",
       "      <td>450.1252</td>\n",
       "      <td>41.8986</td>\n",
       "      <td>1.2812</td>\n",
       "      <td>5.9343</td>\n",
       "      <td>2.3948</td>\n",
       "      <td>1.1804</td>\n",
       "      <td>1.0665</td>\n",
       "      <td>0.5415</td>\n",
       "    </tr>\n",
       "    <tr>\n",
       "      <th>13011</th>\n",
       "      <td>45.2024</td>\n",
       "      <td>8.5972</td>\n",
       "      <td>0.1975</td>\n",
       "      <td>1.5990</td>\n",
       "      <td>0.2809</td>\n",
       "      <td>1950.0000</td>\n",
       "      <td>1950.0000</td>\n",
       "      <td>9700.0000</td>\n",
       "    </tr>\n",
       "    <tr>\n",
       "      <th>13012</th>\n",
       "      <td>41.0448</td>\n",
       "      <td>8.3542</td>\n",
       "      <td>0.1641</td>\n",
       "      <td>1.7166</td>\n",
       "      <td>0.3087</td>\n",
       "      <td>2.5601</td>\n",
       "      <td>1950.0000</td>\n",
       "      <td>1.1648</td>\n",
       "    </tr>\n",
       "    <tr>\n",
       "      <th>13013</th>\n",
       "      <td>378.3448</td>\n",
       "      <td>53.8906</td>\n",
       "      <td>1.2991</td>\n",
       "      <td>9.6742</td>\n",
       "      <td>2.5816</td>\n",
       "      <td>1.4162</td>\n",
       "      <td>1.2469</td>\n",
       "      <td>0.8535</td>\n",
       "    </tr>\n",
       "    <tr>\n",
       "      <th>13014</th>\n",
       "      <td>39.6732</td>\n",
       "      <td>10.9713</td>\n",
       "      <td>0.1958</td>\n",
       "      <td>2.3692</td>\n",
       "      <td>0.3295</td>\n",
       "      <td>2.5601</td>\n",
       "      <td>1950.0000</td>\n",
       "      <td>1.1648</td>\n",
       "    </tr>\n",
       "  </tbody>\n",
       "</table>\n",
       "<p>13015 rows × 8 columns</p>\n",
       "</div>"
      ],
      "text/plain": [
       "       DEPTH_WMSF     HCGR     HFK    HTHO    HURA       IDPH       IMPH  \\\n",
       "0          0.0880   1.9945  0.0354  0.4317  0.0501  1950.0000  1950.0000   \n",
       "1          0.2404   3.4090  0.0708  0.6778  0.0352  1950.0000  1950.0000   \n",
       "2          0.3928   5.6734  0.1203  1.1137  0.1518  1950.0000  1950.0000   \n",
       "3          0.5452   9.4665  0.2242  1.7213  0.0793  1950.0000  1950.0000   \n",
       "4          0.6976   9.9356  0.2286  1.8462  0.4811  1950.0000  1950.0000   \n",
       "...           ...      ...     ...     ...     ...        ...        ...   \n",
       "13010    450.1252  41.8986  1.2812  5.9343  2.3948     1.1804     1.0665   \n",
       "13011     45.2024   8.5972  0.1975  1.5990  0.2809  1950.0000  1950.0000   \n",
       "13012     41.0448   8.3542  0.1641  1.7166  0.3087     2.5601  1950.0000   \n",
       "13013    378.3448  53.8906  1.2991  9.6742  2.5816     1.4162     1.2469   \n",
       "13014     39.6732  10.9713  0.1958  2.3692  0.3295     2.5601  1950.0000   \n",
       "\n",
       "            SFLU  \n",
       "0         0.1589  \n",
       "1         0.1589  \n",
       "2         0.1589  \n",
       "3         0.1589  \n",
       "4         0.1589  \n",
       "...          ...  \n",
       "13010     0.5415  \n",
       "13011  9700.0000  \n",
       "13012     1.1648  \n",
       "13013     0.8535  \n",
       "13014     1.1648  \n",
       "\n",
       "[13015 rows x 8 columns]"
      ]
     },
     "execution_count": 949,
     "metadata": {},
     "output_type": "execute_result"
    }
   ],
   "source": [
    "X = data.drop(columns=[\"lithology\"],axis=1)\n",
    "y = data[\"lithology\"]\n",
    "print(y)\n",
    "X"
   ]
  },
  {
   "cell_type": "markdown",
   "metadata": {},
   "source": [
    "## Scaling"
   ]
  },
  {
   "cell_type": "markdown",
   "metadata": {},
   "source": [
    "Scaling is always very important for KNN because the algorithm relies on the distance between features\n",
    "\n"
   ]
  },
  {
   "cell_type": "code",
   "execution_count": 950,
   "metadata": {},
   "outputs": [
    {
     "data": {
      "text/plain": [
       "array([[<Axes: title={'center': 'DEPTH_WMSF'}>,\n",
       "        <Axes: title={'center': 'HCGR'}>,\n",
       "        <Axes: title={'center': 'HFK'}>],\n",
       "       [<Axes: title={'center': 'HTHO'}>,\n",
       "        <Axes: title={'center': 'HURA'}>,\n",
       "        <Axes: title={'center': 'IDPH'}>],\n",
       "       [<Axes: title={'center': 'IMPH'}>,\n",
       "        <Axes: title={'center': 'SFLU'}>, <Axes: >]], dtype=object)"
      ]
     },
     "execution_count": 950,
     "metadata": {},
     "output_type": "execute_result"
    },
    {
     "data": {
      "image/png": "[encoded data removed]",
      "text/plain": [
       "<Figure size 640x480 with 9 Axes>"
      ]
     },
     "metadata": {},
     "output_type": "display_data"
    }
   ],
   "source": [
    "# plot histrogram \n",
    "X.hist()"
   ]
  },
  {
   "cell_type": "code",
   "execution_count": null,
   "metadata": {
    "ExecuteTime": {
     "end_time": "2021-05-14T11:38:39.464380Z",
     "start_time": "2021-05-14T11:38:39.455043Z"
    },
    "tags": []
   },
   "outputs": [
    {
     "data": {
      "text/html": [
       "<div>\n",
       "<style scoped>\n",
       "    .dataframe tbody tr th:only-of-type {\n",
       "        vertical-align: middle;\n",
       "    }\n",
       "\n",
       "    .dataframe tbody tr th {\n",
       "        vertical-align: top;\n",
       "    }\n",
       "\n",
       "    .dataframe thead th {\n",
       "        text-align: right;\n",
       "    }\n",
       "</style>\n",
       "<table border=\"1\" class=\"dataframe\">\n",
       "  <thead>\n",
       "    <tr style=\"text-align: right;\">\n",
       "      <th></th>\n",
       "      <th>DEPTH_WMSF</th>\n",
       "      <th>HCGR</th>\n",
       "      <th>HFK</th>\n",
       "      <th>HTHO</th>\n",
       "      <th>HURA</th>\n",
       "      <th>IDPH</th>\n",
       "      <th>IMPH</th>\n",
       "      <th>SFLU</th>\n",
       "    </tr>\n",
       "  </thead>\n",
       "  <tbody>\n",
       "    <tr>\n",
       "      <th>0</th>\n",
       "      <td>-1.408071</td>\n",
       "      <td>-1.839861</td>\n",
       "      <td>-1.701519</td>\n",
       "      <td>-1.915529</td>\n",
       "      <td>-1.788729</td>\n",
       "      <td>2.312489</td>\n",
       "      <td>2.198407</td>\n",
       "      <td>-0.239603</td>\n",
       "    </tr>\n",
       "    <tr>\n",
       "      <th>1</th>\n",
       "      <td>-1.407174</td>\n",
       "      <td>-1.771085</td>\n",
       "      <td>-1.643907</td>\n",
       "      <td>-1.837107</td>\n",
       "      <td>-1.806890</td>\n",
       "      <td>2.312489</td>\n",
       "      <td>2.198407</td>\n",
       "      <td>-0.239603</td>\n",
       "    </tr>\n",
       "    <tr>\n",
       "      <th>2</th>\n",
       "      <td>-1.406277</td>\n",
       "      <td>-1.660985</td>\n",
       "      <td>-1.563347</td>\n",
       "      <td>-1.698204</td>\n",
       "      <td>-1.664772</td>\n",
       "      <td>2.312489</td>\n",
       "      <td>2.198407</td>\n",
       "      <td>-0.239603</td>\n",
       "    </tr>\n",
       "    <tr>\n",
       "      <th>3</th>\n",
       "      <td>-1.405380</td>\n",
       "      <td>-1.476557</td>\n",
       "      <td>-1.394252</td>\n",
       "      <td>-1.504587</td>\n",
       "      <td>-1.753139</td>\n",
       "      <td>2.312489</td>\n",
       "      <td>2.198407</td>\n",
       "      <td>-0.239603</td>\n",
       "    </tr>\n",
       "    <tr>\n",
       "      <th>4</th>\n",
       "      <td>-1.404483</td>\n",
       "      <td>-1.453748</td>\n",
       "      <td>-1.387091</td>\n",
       "      <td>-1.464786</td>\n",
       "      <td>-1.263406</td>\n",
       "      <td>2.312489</td>\n",
       "      <td>2.198407</td>\n",
       "      <td>-0.239603</td>\n",
       "    </tr>\n",
       "    <tr>\n",
       "      <th>...</th>\n",
       "      <td>...</td>\n",
       "      <td>...</td>\n",
       "      <td>...</td>\n",
       "      <td>...</td>\n",
       "      <td>...</td>\n",
       "      <td>...</td>\n",
       "      <td>...</td>\n",
       "      <td>...</td>\n",
       "    </tr>\n",
       "    <tr>\n",
       "      <th>13010</th>\n",
       "      <td>1.240251</td>\n",
       "      <td>0.100358</td>\n",
       "      <td>0.325988</td>\n",
       "      <td>-0.162078</td>\n",
       "      <td>1.069102</td>\n",
       "      <td>-0.436963</td>\n",
       "      <td>-0.482464</td>\n",
       "      <td>-0.239429</td>\n",
       "    </tr>\n",
       "    <tr>\n",
       "      <th>13011</th>\n",
       "      <td>-1.142587</td>\n",
       "      <td>-1.518824</td>\n",
       "      <td>-1.437706</td>\n",
       "      <td>-1.543559</td>\n",
       "      <td>-1.507419</td>\n",
       "      <td>2.312489</td>\n",
       "      <td>2.198407</td>\n",
       "      <td>4.178635</td>\n",
       "    </tr>\n",
       "    <tr>\n",
       "      <th>13012</th>\n",
       "      <td>-1.167053</td>\n",
       "      <td>-1.530639</td>\n",
       "      <td>-1.492063</td>\n",
       "      <td>-1.506085</td>\n",
       "      <td>-1.473535</td>\n",
       "      <td>-0.435017</td>\n",
       "      <td>2.198407</td>\n",
       "      <td>-0.239145</td>\n",
       "    </tr>\n",
       "    <tr>\n",
       "      <th>13013</th>\n",
       "      <td>0.817847</td>\n",
       "      <td>0.683433</td>\n",
       "      <td>0.355120</td>\n",
       "      <td>1.029673</td>\n",
       "      <td>1.296782</td>\n",
       "      <td>-0.436631</td>\n",
       "      <td>-0.482216</td>\n",
       "      <td>-0.239287</td>\n",
       "    </tr>\n",
       "    <tr>\n",
       "      <th>13014</th>\n",
       "      <td>-1.175125</td>\n",
       "      <td>-1.403390</td>\n",
       "      <td>-1.440473</td>\n",
       "      <td>-1.298128</td>\n",
       "      <td>-1.448183</td>\n",
       "      <td>-0.435017</td>\n",
       "      <td>2.198407</td>\n",
       "      <td>-0.239145</td>\n",
       "    </tr>\n",
       "  </tbody>\n",
       "</table>\n",
       "<p>13015 rows × 8 columns</p>\n",
       "</div>"
      ],
      "text/plain": [
       "       DEPTH_WMSF      HCGR       HFK      HTHO      HURA      IDPH      IMPH  \\\n",
       "0       -1.408071 -1.839861 -1.701519 -1.915529 -1.788729  2.312489  2.198407   \n",
       "1       -1.407174 -1.771085 -1.643907 -1.837107 -1.806890  2.312489  2.198407   \n",
       "2       -1.406277 -1.660985 -1.563347 -1.698204 -1.664772  2.312489  2.198407   \n",
       "3       -1.405380 -1.476557 -1.394252 -1.504587 -1.753139  2.312489  2.198407   \n",
       "4       -1.404483 -1.453748 -1.387091 -1.464786 -1.263406  2.312489  2.198407   \n",
       "...           ...       ...       ...       ...       ...       ...       ...   \n",
       "13010    1.240251  0.100358  0.325988 -0.162078  1.069102 -0.436963 -0.482464   \n",
       "13011   -1.142587 -1.518824 -1.437706 -1.543559 -1.507419  2.312489  2.198407   \n",
       "13012   -1.167053 -1.530639 -1.492063 -1.506085 -1.473535 -0.435017  2.198407   \n",
       "13013    0.817847  0.683433  0.355120  1.029673  1.296782 -0.436631 -0.482216   \n",
       "13014   -1.175125 -1.403390 -1.440473 -1.298128 -1.448183 -0.435017  2.198407   \n",
       "\n",
       "           SFLU  \n",
       "0     -0.239603  \n",
       "1     -0.239603  \n",
       "2     -0.239603  \n",
       "3     -0.239603  \n",
       "4     -0.239603  \n",
       "...         ...  \n",
       "13010 -0.239429  \n",
       "13011  4.178635  \n",
       "13012 -0.239145  \n",
       "13013 -0.239287  \n",
       "13014 -0.239145  \n",
       "\n",
       "[13015 rows x 8 columns]"
      ]
     },
     "execution_count": 951,
     "metadata": {},
     "output_type": "execute_result"
    }
   ],
   "source": [
    "# Scale data with standard scaler\n",
    "from sklearn.preprocessing import StandardScaler\n",
    "\n",
    "scaler_std = StandardScaler()\n",
    "scaler_std.fit(X[:])\n",
    "X[:]= scaler_std.transform(X[:])\n",
    "\n",
    "#scaler_std.fit(X.iloc[:,:])\n",
    "#X.iloc[:,:] = scaler_std.transform(X.iloc[:,:])\n",
    "X"
   ]
  },
  {
   "cell_type": "code",
   "execution_count": 952,
   "metadata": {},
   "outputs": [
    {
     "name": "stdout",
     "output_type": "stream",
     "text": [
      "{1: 'Interbedded sand and mud ', 0: 'Interbedded clay and mud', 4: 'Sandy Mud', 3: 'Mud', 2: 'Marl'}\n"
     ]
    },
    {
     "name": "stderr",
     "output_type": "stream",
     "text": [
      "C:\\Users\\Worra\\AppData\\Local\\Temp\\ipykernel_18532\\1214515154.py:8: SettingWithCopyWarning: \n",
      "A value is trying to be set on a copy of a slice from a DataFrame\n",
      "\n",
      "See the caveats in the documentation: https://pandas.pydata.org/pandas-docs/stable/user_guide/indexing.html#returning-a-view-versus-a-copy\n",
      "  y[:] = label_en.transform(y[:])\n"
     ]
    },
    {
     "data": {
      "text/plain": [
       "0        1\n",
       "1        1\n",
       "2        1\n",
       "3        0\n",
       "4        0\n",
       "        ..\n",
       "13010    2\n",
       "13011    0\n",
       "13012    0\n",
       "13013    4\n",
       "13014    0\n",
       "Name: lithology, Length: 13015, dtype: object"
      ]
     },
     "execution_count": 952,
     "metadata": {},
     "output_type": "execute_result"
    }
   ],
   "source": [
    "# label encoder \n",
    "from sklearn.preprocessing import LabelEncoder\n",
    "\n",
    "class_name = y.unique().tolist()\n",
    "\n",
    "label_en = LabelEncoder()\n",
    "label_en.fit(y[:])\n",
    "y[:] = label_en.transform(y[:])\n",
    "\n",
    "class_encode = y.unique().tolist()\n",
    "#print(class_name)\n",
    "#print(class_encode)\n",
    "class_all = dict(zip(class_encode,class_name))\n",
    "print(class_all)\n",
    "y"
   ]
  },
  {
   "cell_type": "markdown",
   "metadata": {},
   "source": [
    "## Train/Test split dataset"
   ]
  },
  {
   "cell_type": "code",
   "execution_count": null,
   "metadata": {
    "ExecuteTime": {
     "end_time": "2021-05-14T11:38:39.453504Z",
     "start_time": "2021-05-14T11:38:39.230256Z"
    },
    "tags": []
   },
   "outputs": [
    {
     "name": "stdout",
     "output_type": "stream",
     "text": [
      "int32\n",
      "X train:, (3904, 8) X test: (9111, 8)\n",
      "y train: (3904,) y test: (9111,)\n"
     ]
    },
    {
     "data": {
      "text/html": [
       "<div>\n",
       "<style scoped>\n",
       "    .dataframe tbody tr th:only-of-type {\n",
       "        vertical-align: middle;\n",
       "    }\n",
       "\n",
       "    .dataframe tbody tr th {\n",
       "        vertical-align: top;\n",
       "    }\n",
       "\n",
       "    .dataframe thead th {\n",
       "        text-align: right;\n",
       "    }\n",
       "</style>\n",
       "<table border=\"1\" class=\"dataframe\">\n",
       "  <thead>\n",
       "    <tr style=\"text-align: right;\">\n",
       "      <th></th>\n",
       "      <th>DEPTH_WMSF</th>\n",
       "      <th>HCGR</th>\n",
       "      <th>HFK</th>\n",
       "      <th>HTHO</th>\n",
       "      <th>HURA</th>\n",
       "      <th>IDPH</th>\n",
       "      <th>IMPH</th>\n",
       "      <th>SFLU</th>\n",
       "    </tr>\n",
       "  </thead>\n",
       "  <tbody>\n",
       "    <tr>\n",
       "      <th>11516</th>\n",
       "      <td>0.603421</td>\n",
       "      <td>0.651814</td>\n",
       "      <td>0.757106</td>\n",
       "      <td>0.502453</td>\n",
       "      <td>1.964345</td>\n",
       "      <td>-0.436882</td>\n",
       "      <td>-0.482240</td>\n",
       "      <td>-0.239184</td>\n",
       "    </tr>\n",
       "    <tr>\n",
       "      <th>8126</th>\n",
       "      <td>-0.592949</td>\n",
       "      <td>0.410960</td>\n",
       "      <td>0.475553</td>\n",
       "      <td>0.319096</td>\n",
       "      <td>0.113769</td>\n",
       "      <td>-0.437138</td>\n",
       "      <td>-0.482549</td>\n",
       "      <td>-0.239444</td>\n",
       "    </tr>\n",
       "    <tr>\n",
       "      <th>6816</th>\n",
       "      <td>-0.755159</td>\n",
       "      <td>0.995173</td>\n",
       "      <td>1.213613</td>\n",
       "      <td>0.697535</td>\n",
       "      <td>-0.134388</td>\n",
       "      <td>-0.436772</td>\n",
       "      <td>-0.482503</td>\n",
       "      <td>-0.239401</td>\n",
       "    </tr>\n",
       "    <tr>\n",
       "      <th>8558</th>\n",
       "      <td>-0.183997</td>\n",
       "      <td>0.590828</td>\n",
       "      <td>0.581013</td>\n",
       "      <td>0.576222</td>\n",
       "      <td>-0.016160</td>\n",
       "      <td>-0.436979</td>\n",
       "      <td>-0.482302</td>\n",
       "      <td>-0.239340</td>\n",
       "    </tr>\n",
       "    <tr>\n",
       "      <th>2681</th>\n",
       "      <td>1.161331</td>\n",
       "      <td>0.034815</td>\n",
       "      <td>-0.173809</td>\n",
       "      <td>0.273018</td>\n",
       "      <td>1.164172</td>\n",
       "      <td>-0.436843</td>\n",
       "      <td>-0.482372</td>\n",
       "      <td>-0.239378</td>\n",
       "    </tr>\n",
       "    <tr>\n",
       "      <th>...</th>\n",
       "      <td>...</td>\n",
       "      <td>...</td>\n",
       "      <td>...</td>\n",
       "      <td>...</td>\n",
       "      <td>...</td>\n",
       "      <td>...</td>\n",
       "      <td>...</td>\n",
       "      <td>...</td>\n",
       "    </tr>\n",
       "    <tr>\n",
       "      <th>4859</th>\n",
       "      <td>-0.228975</td>\n",
       "      <td>0.956641</td>\n",
       "      <td>0.817811</td>\n",
       "      <td>1.072150</td>\n",
       "      <td>0.494537</td>\n",
       "      <td>-0.436823</td>\n",
       "      <td>-0.482405</td>\n",
       "      <td>-0.239366</td>\n",
       "    </tr>\n",
       "    <tr>\n",
       "      <th>3264</th>\n",
       "      <td>1.962195</td>\n",
       "      <td>0.420354</td>\n",
       "      <td>0.363746</td>\n",
       "      <td>0.467050</td>\n",
       "      <td>2.198729</td>\n",
       "      <td>-0.436755</td>\n",
       "      <td>-0.482278</td>\n",
       "      <td>-0.239379</td>\n",
       "    </tr>\n",
       "    <tr>\n",
       "      <th>9845</th>\n",
       "      <td>-1.002791</td>\n",
       "      <td>-1.412507</td>\n",
       "      <td>-1.393439</td>\n",
       "      <td>-1.370336</td>\n",
       "      <td>-1.240979</td>\n",
       "      <td>-0.372815</td>\n",
       "      <td>-0.312746</td>\n",
       "      <td>-0.238948</td>\n",
       "    </tr>\n",
       "    <tr>\n",
       "      <th>10799</th>\n",
       "      <td>-0.102379</td>\n",
       "      <td>0.808620</td>\n",
       "      <td>0.637649</td>\n",
       "      <td>0.969033</td>\n",
       "      <td>0.641530</td>\n",
       "      <td>-0.436911</td>\n",
       "      <td>-0.482208</td>\n",
       "      <td>-0.239201</td>\n",
       "    </tr>\n",
       "    <tr>\n",
       "      <th>2732</th>\n",
       "      <td>1.207966</td>\n",
       "      <td>0.054468</td>\n",
       "      <td>-0.048006</td>\n",
       "      <td>0.170187</td>\n",
       "      <td>2.102562</td>\n",
       "      <td>-0.436866</td>\n",
       "      <td>-0.482394</td>\n",
       "      <td>-0.239315</td>\n",
       "    </tr>\n",
       "  </tbody>\n",
       "</table>\n",
       "<p>3904 rows × 8 columns</p>\n",
       "</div>"
      ],
      "text/plain": [
       "       DEPTH_WMSF      HCGR       HFK      HTHO      HURA      IDPH      IMPH  \\\n",
       "11516    0.603421  0.651814  0.757106  0.502453  1.964345 -0.436882 -0.482240   \n",
       "8126    -0.592949  0.410960  0.475553  0.319096  0.113769 -0.437138 -0.482549   \n",
       "6816    -0.755159  0.995173  1.213613  0.697535 -0.134388 -0.436772 -0.482503   \n",
       "8558    -0.183997  0.590828  0.581013  0.576222 -0.016160 -0.436979 -0.482302   \n",
       "2681     1.161331  0.034815 -0.173809  0.273018  1.164172 -0.436843 -0.482372   \n",
       "...           ...       ...       ...       ...       ...       ...       ...   \n",
       "4859    -0.228975  0.956641  0.817811  1.072150  0.494537 -0.436823 -0.482405   \n",
       "3264     1.962195  0.420354  0.363746  0.467050  2.198729 -0.436755 -0.482278   \n",
       "9845    -1.002791 -1.412507 -1.393439 -1.370336 -1.240979 -0.372815 -0.312746   \n",
       "10799   -0.102379  0.808620  0.637649  0.969033  0.641530 -0.436911 -0.482208   \n",
       "2732     1.207966  0.054468 -0.048006  0.170187  2.102562 -0.436866 -0.482394   \n",
       "\n",
       "           SFLU  \n",
       "11516 -0.239184  \n",
       "8126  -0.239444  \n",
       "6816  -0.239401  \n",
       "8558  -0.239340  \n",
       "2681  -0.239378  \n",
       "...         ...  \n",
       "4859  -0.239366  \n",
       "3264  -0.239379  \n",
       "9845  -0.238948  \n",
       "10799 -0.239201  \n",
       "2732  -0.239315  \n",
       "\n",
       "[3904 rows x 8 columns]"
      ]
     },
     "execution_count": 953,
     "metadata": {},
     "output_type": "execute_result"
    }
   ],
   "source": [
    "\n",
    "from sklearn.model_selection import train_test_split\n",
    "\n",
    "y = y.astype(int)\n",
    "X_train,X_test,y_train,y_test = train_test_split(X,y,train_size=0.3,random_state=0)\n",
    "\n",
    "# Check train size \n",
    "print(y_train.dtypes)\n",
    "print(\"X train:,\",X_train.shape,\"X test:\",X_test.shape)\n",
    "print(\"y train:\",y_train.shape,\"y test:\",y_test.shape)\n",
    "\n",
    "X_train"
   ]
  },
  {
   "cell_type": "markdown",
   "metadata": {},
   "source": [
    "## 3. Baseline KNN model"
   ]
  },
  {
   "cell_type": "markdown",
   "metadata": {},
   "source": [
    "Define a simple KNN classifier set with k=100"
   ]
  },
  {
   "cell_type": "code",
   "execution_count": 954,
   "metadata": {
    "ExecuteTime": {
     "end_time": "2021-05-14T11:38:39.538495Z",
     "start_time": "2021-05-14T11:38:39.465817Z"
    },
    "tags": []
   },
   "outputs": [],
   "source": [
    "from sklearn.model_selection import cross_validate\n",
    "from sklearn.neighbors import KNeighborsClassifier\n",
    "\n",
    "base_model = KNeighborsClassifier(n_neighbors=100)\n",
    "#base_model.fit(X_train,y_train)\n"
   ]
  },
  {
   "cell_type": "markdown",
   "metadata": {},
   "source": [
    " 5-fold cross validate the simple KNN classifier defined above taking into account only the closest neighbor, and compute its mean cv-score."
   ]
  },
  {
   "cell_type": "code",
   "execution_count": null,
   "metadata": {},
   "outputs": [
    {
     "name": "stdout",
     "output_type": "stream",
     "text": [
      "0.7986667323287041\n"
     ]
    },
    {
     "data": {
      "text/html": [
       "<div>\n",
       "<style scoped>\n",
       "    .dataframe tbody tr th:only-of-type {\n",
       "        vertical-align: middle;\n",
       "    }\n",
       "\n",
       "    .dataframe tbody tr th {\n",
       "        vertical-align: top;\n",
       "    }\n",
       "\n",
       "    .dataframe thead th {\n",
       "        text-align: right;\n",
       "    }\n",
       "</style>\n",
       "<table border=\"1\" class=\"dataframe\">\n",
       "  <thead>\n",
       "    <tr style=\"text-align: right;\">\n",
       "      <th></th>\n",
       "      <th>fit_time</th>\n",
       "      <th>score_time</th>\n",
       "      <th>test_accuracy</th>\n",
       "      <th>test_precision_macro</th>\n",
       "      <th>test_recall_macro</th>\n",
       "      <th>test_f1_macro</th>\n",
       "    </tr>\n",
       "  </thead>\n",
       "  <tbody>\n",
       "    <tr>\n",
       "      <th>0</th>\n",
       "      <td>0.003001</td>\n",
       "      <td>0.029053</td>\n",
       "      <td>0.806658</td>\n",
       "      <td>0.796898</td>\n",
       "      <td>0.705154</td>\n",
       "      <td>0.716821</td>\n",
       "    </tr>\n",
       "    <tr>\n",
       "      <th>1</th>\n",
       "      <td>0.003001</td>\n",
       "      <td>0.030300</td>\n",
       "      <td>0.796415</td>\n",
       "      <td>0.800078</td>\n",
       "      <td>0.694142</td>\n",
       "      <td>0.699259</td>\n",
       "    </tr>\n",
       "    <tr>\n",
       "      <th>2</th>\n",
       "      <td>0.002932</td>\n",
       "      <td>0.028677</td>\n",
       "      <td>0.801536</td>\n",
       "      <td>0.778788</td>\n",
       "      <td>0.697160</td>\n",
       "      <td>0.702717</td>\n",
       "    </tr>\n",
       "    <tr>\n",
       "      <th>3</th>\n",
       "      <td>0.003061</td>\n",
       "      <td>0.027210</td>\n",
       "      <td>0.795134</td>\n",
       "      <td>0.790514</td>\n",
       "      <td>0.695005</td>\n",
       "      <td>0.698104</td>\n",
       "    </tr>\n",
       "    <tr>\n",
       "      <th>4</th>\n",
       "      <td>0.003371</td>\n",
       "      <td>0.029041</td>\n",
       "      <td>0.793590</td>\n",
       "      <td>0.798564</td>\n",
       "      <td>0.689807</td>\n",
       "      <td>0.688138</td>\n",
       "    </tr>\n",
       "  </tbody>\n",
       "</table>\n",
       "</div>"
      ],
      "text/plain": [
       "   fit_time  score_time  test_accuracy  test_precision_macro  \\\n",
       "0  0.003001    0.029053       0.806658              0.796898   \n",
       "1  0.003001    0.030300       0.796415              0.800078   \n",
       "2  0.002932    0.028677       0.801536              0.778788   \n",
       "3  0.003061    0.027210       0.795134              0.790514   \n",
       "4  0.003371    0.029041       0.793590              0.798564   \n",
       "\n",
       "   test_recall_macro  test_f1_macro  \n",
       "0           0.705154       0.716821  \n",
       "1           0.694142       0.699259  \n",
       "2           0.697160       0.702717  \n",
       "3           0.695005       0.698104  \n",
       "4           0.689807       0.688138  "
      ]
     },
     "execution_count": 955,
     "metadata": {},
     "output_type": "execute_result"
    }
   ],
   "source": [
    "\n",
    "from sklearn.model_selection import cross_validate\n",
    "\n",
    "cv_base = cross_validate(base_model,X_train,y_train,cv=5,\n",
    "                    scoring=[\"accuracy\",\"precision_macro\",\"recall_macro\",\"f1_macro\"])\n",
    "\n",
    "\n",
    "\n",
    "acc_base = cv_base[\"test_accuracy\"].mean()\n",
    "print(acc_base)\n",
    "pd.DataFrame(cv_base)\n"
   ]
  },
  {
   "cell_type": "markdown",
   "metadata": {},
   "source": [
    "## 4. Grid search\n",
    "\n",
    "Use sklearn `GridSearchCV` to find the best KNN hyperparameter `n_neighbors`.\n",
    "- Start coarse-grain approach, with `n_neighbors` = [1,10,20,50,100, 200]\n",
    "- 5-fold cross validate each combination\n",
    "- Be sure to maximize performance time using `n_jobs`"
   ]
  },
  {
   "cell_type": "code",
   "execution_count": null,
   "metadata": {
    "ExecuteTime": {
     "end_time": "2021-05-14T11:38:41.312869Z",
     "start_time": "2021-05-14T11:38:39.540617Z"
    },
    "tags": []
   },
   "outputs": [
    {
     "data": {
      "text/html": [
       "<style>#sk-container-id-57 {color: black;background-color: white;}#sk-container-id-57 pre{padding: 0;}#sk-container-id-57 div.sk-toggleable {background-color: white;}#sk-container-id-57 label.sk-toggleable__label {cursor: pointer;display: block;width: 100%;margin-bottom: 0;padding: 0.3em;box-sizing: border-box;text-align: center;}#sk-container-id-57 label.sk-toggleable__label-arrow:before {content: \"▸\";float: left;margin-right: 0.25em;color: #696969;}#sk-container-id-57 label.sk-toggleable__label-arrow:hover:before {color: black;}#sk-container-id-57 div.sk-estimator:hover label.sk-toggleable__label-arrow:before {color: black;}#sk-container-id-57 div.sk-toggleable__content {max-height: 0;max-width: 0;overflow: hidden;text-align: left;background-color: #f0f8ff;}#sk-container-id-57 div.sk-toggleable__content pre {margin: 0.2em;color: black;border-radius: 0.25em;background-color: #f0f8ff;}#sk-container-id-57 input.sk-toggleable__control:checked~div.sk-toggleable__content {max-height: 200px;max-width: 100%;overflow: auto;}#sk-container-id-57 input.sk-toggleable__control:checked~label.sk-toggleable__label-arrow:before {content: \"▾\";}#sk-container-id-57 div.sk-estimator input.sk-toggleable__control:checked~label.sk-toggleable__label {background-color: #d4ebff;}#sk-container-id-57 div.sk-label input.sk-toggleable__control:checked~label.sk-toggleable__label {background-color: #d4ebff;}#sk-container-id-57 input.sk-hidden--visually {border: 0;clip: rect(1px 1px 1px 1px);clip: rect(1px, 1px, 1px, 1px);height: 1px;margin: -1px;overflow: hidden;padding: 0;position: absolute;width: 1px;}#sk-container-id-57 div.sk-estimator {font-family: monospace;background-color: #f0f8ff;border: 1px dotted black;border-radius: 0.25em;box-sizing: border-box;margin-bottom: 0.5em;}#sk-container-id-57 div.sk-estimator:hover {background-color: #d4ebff;}#sk-container-id-57 div.sk-parallel-item::after {content: \"\";width: 100%;border-bottom: 1px solid gray;flex-grow: 1;}#sk-container-id-57 div.sk-label:hover label.sk-toggleable__label {background-color: #d4ebff;}#sk-container-id-57 div.sk-serial::before {content: \"\";position: absolute;border-left: 1px solid gray;box-sizing: border-box;top: 0;bottom: 0;left: 50%;z-index: 0;}#sk-container-id-57 div.sk-serial {display: flex;flex-direction: column;align-items: center;background-color: white;padding-right: 0.2em;padding-left: 0.2em;position: relative;}#sk-container-id-57 div.sk-item {position: relative;z-index: 1;}#sk-container-id-57 div.sk-parallel {display: flex;align-items: stretch;justify-content: center;background-color: white;position: relative;}#sk-container-id-57 div.sk-item::before, #sk-container-id-57 div.sk-parallel-item::before {content: \"\";position: absolute;border-left: 1px solid gray;box-sizing: border-box;top: 0;bottom: 0;left: 50%;z-index: -1;}#sk-container-id-57 div.sk-parallel-item {display: flex;flex-direction: column;z-index: 1;position: relative;background-color: white;}#sk-container-id-57 div.sk-parallel-item:first-child::after {align-self: flex-end;width: 50%;}#sk-container-id-57 div.sk-parallel-item:last-child::after {align-self: flex-start;width: 50%;}#sk-container-id-57 div.sk-parallel-item:only-child::after {width: 0;}#sk-container-id-57 div.sk-dashed-wrapped {border: 1px dashed gray;margin: 0 0.4em 0.5em 0.4em;box-sizing: border-box;padding-bottom: 0.4em;background-color: white;}#sk-container-id-57 div.sk-label label {font-family: monospace;font-weight: bold;display: inline-block;line-height: 1.2em;}#sk-container-id-57 div.sk-label-container {text-align: center;}#sk-container-id-57 div.sk-container {/* jupyter's `normalize.less` sets `[hidden] { display: none; }` but bootstrap.min.css set `[hidden] { display: none !important; }` so we also need the `!important` here to be able to override the default hidden behavior on the sphinx rendered scikit-learn.org. See: https://github.com/scikit-learn/scikit-learn/issues/21755 */display: inline-block !important;position: relative;}#sk-container-id-57 div.sk-text-repr-fallback {display: none;}</style><div id=\"sk-container-id-57\" class=\"sk-top-container\"><div class=\"sk-text-repr-fallback\"><pre>GridSearchCV(cv=5, estimator=KNeighborsClassifier(), n_jobs=-1,\n",
       "             param_grid={&#x27;n_neighbors&#x27;: array([ 1,  2,  3,  4,  5,  6,  7,  8,  9, 10, 11, 12, 13, 14, 15, 16, 17,\n",
       "       18, 19, 20, 21, 22, 23, 24, 25, 26, 27, 28, 29]),\n",
       "                         &#x27;p&#x27;: [1, 2]},\n",
       "             scoring=&#x27;accuracy&#x27;)</pre><b>In a Jupyter environment, please rerun this cell to show the HTML representation or trust the notebook. <br />On GitHub, the HTML representation is unable to render, please try loading this page with nbviewer.org.</b></div><div class=\"sk-container\" hidden><div class=\"sk-item sk-dashed-wrapped\"><div class=\"sk-label-container\"><div class=\"sk-label sk-toggleable\"><input class=\"sk-toggleable__control sk-hidden--visually\" id=\"sk-estimator-id-143\" type=\"checkbox\" ><label for=\"sk-estimator-id-143\" class=\"sk-toggleable__label sk-toggleable__label-arrow\">GridSearchCV</label><div class=\"sk-toggleable__content\"><pre>GridSearchCV(cv=5, estimator=KNeighborsClassifier(), n_jobs=-1,\n",
       "             param_grid={&#x27;n_neighbors&#x27;: array([ 1,  2,  3,  4,  5,  6,  7,  8,  9, 10, 11, 12, 13, 14, 15, 16, 17,\n",
       "       18, 19, 20, 21, 22, 23, 24, 25, 26, 27, 28, 29]),\n",
       "                         &#x27;p&#x27;: [1, 2]},\n",
       "             scoring=&#x27;accuracy&#x27;)</pre></div></div></div><div class=\"sk-parallel\"><div class=\"sk-parallel-item\"><div class=\"sk-item\"><div class=\"sk-label-container\"><div class=\"sk-label sk-toggleable\"><input class=\"sk-toggleable__control sk-hidden--visually\" id=\"sk-estimator-id-144\" type=\"checkbox\" ><label for=\"sk-estimator-id-144\" class=\"sk-toggleable__label sk-toggleable__label-arrow\">estimator: KNeighborsClassifier</label><div class=\"sk-toggleable__content\"><pre>KNeighborsClassifier()</pre></div></div></div><div class=\"sk-serial\"><div class=\"sk-item\"><div class=\"sk-estimator sk-toggleable\"><input class=\"sk-toggleable__control sk-hidden--visually\" id=\"sk-estimator-id-145\" type=\"checkbox\" ><label for=\"sk-estimator-id-145\" class=\"sk-toggleable__label sk-toggleable__label-arrow\">KNeighborsClassifier</label><div class=\"sk-toggleable__content\"><pre>KNeighborsClassifier()</pre></div></div></div></div></div></div></div></div></div></div>"
      ],
      "text/plain": [
       "GridSearchCV(cv=5, estimator=KNeighborsClassifier(), n_jobs=-1,\n",
       "             param_grid={'n_neighbors': array([ 1,  2,  3,  4,  5,  6,  7,  8,  9, 10, 11, 12, 13, 14, 15, 16, 17,\n",
       "       18, 19, 20, 21, 22, 23, 24, 25, 26, 27, 28, 29]),\n",
       "                         'p': [1, 2]},\n",
       "             scoring='accuracy')"
      ]
     },
     "execution_count": 956,
     "metadata": {},
     "output_type": "execute_result"
    }
   ],
   "source": [
    "\n",
    "from sklearn.model_selection import GridSearchCV\n",
    "knn_model2 = KNeighborsClassifier()\n",
    "# Hyperparameter \n",
    "grid_hyper = {\"n_neighbors\":np.arange(1,30,1),\n",
    "            'p': [1, 2]}\n",
    "\n",
    "#[\"accuracy\",\"precision_macro\",\"recall_macro\",\"f1_macro\"]\n",
    "grid_search = GridSearchCV(knn_model2,grid_hyper,cv=5,n_jobs=-1,\n",
    "    scoring=\"accuracy\",)\n",
    "\n",
    "grid_search.fit(X_train,y_train)\n"
   ]
  },
  {
   "cell_type": "code",
   "execution_count": 957,
   "metadata": {
    "ExecuteTime": {
     "end_time": "2021-05-14T11:38:41.323905Z",
     "start_time": "2021-05-14T11:38:41.318557Z"
    },
    "tags": []
   },
   "outputs": [
    {
     "name": "stdout",
     "output_type": "stream",
     "text": [
      "0.8893440362454446\n",
      "{'n_neighbors': 5, 'p': 1}\n",
      "KNeighborsClassifier(p=1)\n"
     ]
    }
   ],
   "source": [
    "print(grid_search.best_score_)\n",
    "print(grid_search.best_params_)\n",
    "print(grid_search.best_estimator_)"
   ]
  },
  {
   "cell_type": "code",
   "execution_count": 958,
   "metadata": {
    "ExecuteTime": {
     "end_time": "2021-05-14T11:38:41.332006Z",
     "start_time": "2021-05-14T11:38:41.327191Z"
    },
    "tags": []
   },
   "outputs": [],
   "source": [
    "best_score = grid_search.best_score_\n",
    "best_k = grid_search.best_params_['n_neighbors']\n"
   ]
  },
  {
   "cell_type": "markdown",
   "metadata": {},
   "source": [
    "### Visual check"
   ]
  },
  {
   "cell_type": "markdown",
   "metadata": {},
   "source": [
    "Perform a grid search manually.\n",
    "- Loop manually over all values of k from 1 to 50 and store the mean cv-scores of each model in a list.\n",
    "- Plot the score as a function of k to visualy find the best k"
   ]
  },
  {
   "cell_type": "code",
   "execution_count": 960,
   "metadata": {
    "ExecuteTime": {
     "end_time": "2021-05-14T11:38:43.217231Z",
     "start_time": "2021-05-14T11:38:42.349686Z"
    },
    "tags": []
   },
   "outputs": [
    {
     "name": "stdout",
     "output_type": "stream",
     "text": [
      "[0.882938704488, 0.8652677369578778, 0.8872943957450999, 0.8798647362027644, 0.8862697396500213, 0.8839636888932663, 0.8847339045930596, 0.8796096391871039, 0.8821717718900818, 0.8773045733609115, 0.8775613119275093, 0.8750001641550937, 0.8755113431169768, 0.8701329656259233, 0.8714146885977871, 0.8665474900686168, 0.8691083095308446, 0.868851570964247, 0.866803243704652, 0.8670609672018124, 0.8639863422962015, 0.8621927837420795, 0.861679963229259, 0.8601431432417348, 0.8573259135230966, 0.8586073081847729, 0.8609117173905906, 0.8588627335106208, 0.8565570110640532, 0.856301257428018, 0.8575813388489445, 0.8557877802948226, 0.854762467579369, 0.8534817295380674, 0.853994550050888, 0.8509209100758396, 0.8498962539807611, 0.8483587773728619, 0.848103352047014, 0.8475898749138185, 0.8478466134804163, 0.8463091368725172, 0.8475905315341935, 0.8429797432614332, 0.8445172198693325, 0.8406750057454282, 0.8409314160018386, 0.8399070882169474, 0.8401631701631702]\n"
     ]
    },
    {
     "data": {
      "image/png": "[encoded data removed]",
      "text/plain": [
       "<Figure size 640x480 with 1 Axes>"
      ]
     },
     "metadata": {},
     "output_type": "display_data"
    }
   ],
   "source": [
    "# Your code here\n",
    "import matplotlib.pyplot as plt \n",
    "\n",
    "cv_manual_score = []\n",
    "k1 = np.arange(1,50,1)\n",
    "for iter_k in k1:\n",
    "    knn_manual = KNeighborsClassifier(n_neighbors=iter_k)\n",
    "    cv_manual = cross_validate(knn_manual,X_train,y_train,cv=5,scoring=[\"accuracy\"])\n",
    "    cv_manual_score.append(cv_manual[\"test_accuracy\"].mean())\n",
    "    #print(cv_manual[\"test_accuracy\"].mean())\n",
    "\n",
    "print(cv_manual_score)\n",
    "\n",
    "# plot \n",
    "plt.figure()\n",
    "plt.grid()\n",
    "plt.plot(k1,cv_manual_score,color=\"b\",label=\"accuray with k\")\n",
    "plt.xlabel(\"k value\"),plt.ylabel(\"Accuracy\")\n",
    "plt.show()"
   ]
  },
  {
   "cell_type": "markdown",
   "metadata": {},
   "source": [
    "## 5. Multiple params"
   ]
  },
  {
   "cell_type": "markdown",
   "metadata": {},
   "source": [
    "KNNRegressor suppports various _distance metrics_ via the hyper-parameter `p`\n",
    "\n",
    "Use GridSearchCV to search for best `k` and `p` at the same time: Try all combinations for `k` = [1, 3, 5, 7, 9, 20, 50] and `p` = [1, 2, 3]. "
   ]
  },
  {
   "cell_type": "code",
   "execution_count": null,
   "metadata": {
    "ExecuteTime": {
     "end_time": "2021-05-14T11:38:43.500054Z",
     "start_time": "2021-05-14T11:38:43.218919Z"
    },
    "tags": []
   },
   "outputs": [],
   "source": [
    "\n",
    "k = [1, 3, 5, 7, 9, 20, 50]\n",
    "p = [1, 2, 3]"
   ]
  },
  {
   "cell_type": "markdown",
   "metadata": {},
   "source": [
    "\n",
    "## 6. Random Search\n",
    "\n",
    "If a Random Search can find a better combination with the same number of model fits?\n",
    "Use `RandomizedSearchCV` to\n",
    "- Randomly sample `k` from a uniform `randint(1,50)` distribition\n",
    "- Sample `p` from a list [1,2,3]\n",
    "- Use the correct number of `n_iter` and `cv` to fit the exact same number of models than in your previous GridSearchCV."
   ]
  },
  {
   "cell_type": "code",
   "execution_count": null,
   "metadata": {
    "ExecuteTime": {
     "end_time": "2021-05-14T11:38:43.822426Z",
     "start_time": "2021-05-14T11:38:43.509666Z"
    },
    "tags": []
   },
   "outputs": [
    {
     "name": "stdout",
     "output_type": "stream",
     "text": [
      "KNeighborsClassifier(algorithm='ball_tree', leaf_size=10, metric='manhattan',\n",
      "                     n_jobs=-1, n_neighbors=8, weights='distance')\n",
      "0.8921158532945304\n"
     ]
    }
   ],
   "source": [
    "\n",
    "from sklearn.model_selection import RandomizedSearchCV\n",
    "knn_rn = KNeighborsClassifier()\n",
    "#k = np.random.randint(1,50,size=50)\n",
    "k = np.arange(1,100,1)\n",
    "p = [1,2,3]\n",
    "\n",
    "#print(\"k\",k)\n",
    "\n",
    "# Hyperparameter \n",
    "grid_rd = {\n",
    "    'n_neighbors': k,  # Generate values from 1 to 200 with a step of 10\n",
    "    'weights': ['uniform', 'distance'],\n",
    "    'p': p,\n",
    "    'metric': ['euclidean', 'manhattan'],\n",
    "    'algorithm': ['auto', 'ball_tree', 'kd_tree', 'brute'],\n",
    "    'leaf_size': [10, 20, 30],\n",
    "    'n_jobs': [-1]\n",
    "}\n",
    "\n",
    "search_rd = RandomizedSearchCV(knn_rn,grid_rd,scoring=\"f1_macro\",\n",
    "                            n_iter=100,\n",
    "                            cv=10,\n",
    "                            n_jobs=-1)\n",
    "\n",
    "search_rd.fit(X_train,y_train)\n",
    "print(search_rd.best_estimator_)\n",
    "print(search_rd.best_score_)"
   ]
  },
  {
   "cell_type": "markdown",
   "metadata": {},
   "source": [
    "## 7. Generalization"
   ]
  },
  {
   "cell_type": "markdown",
   "metadata": {},
   "source": [
    "This is final chance to fine-tune the model\n",
    "- Refine your RandomsearchCV \n",
    "- Choose best model hyper-params and instantiate it\n",
    "- Re-fit it on the __entire__ train set"
   ]
  },
  {
   "cell_type": "code",
   "execution_count": null,
   "metadata": {
    "ExecuteTime": {
     "end_time": "2021-05-14T11:38:43.826514Z",
     "start_time": "2021-05-14T11:38:43.824095Z"
    },
    "tags": []
   },
   "outputs": [
    {
     "name": "stdout",
     "output_type": "stream",
     "text": [
      "8\n"
     ]
    },
    {
     "data": {
      "text/html": [
       "<style>#sk-container-id-58 {color: black;background-color: white;}#sk-container-id-58 pre{padding: 0;}#sk-container-id-58 div.sk-toggleable {background-color: white;}#sk-container-id-58 label.sk-toggleable__label {cursor: pointer;display: block;width: 100%;margin-bottom: 0;padding: 0.3em;box-sizing: border-box;text-align: center;}#sk-container-id-58 label.sk-toggleable__label-arrow:before {content: \"▸\";float: left;margin-right: 0.25em;color: #696969;}#sk-container-id-58 label.sk-toggleable__label-arrow:hover:before {color: black;}#sk-container-id-58 div.sk-estimator:hover label.sk-toggleable__label-arrow:before {color: black;}#sk-container-id-58 div.sk-toggleable__content {max-height: 0;max-width: 0;overflow: hidden;text-align: left;background-color: #f0f8ff;}#sk-container-id-58 div.sk-toggleable__content pre {margin: 0.2em;color: black;border-radius: 0.25em;background-color: #f0f8ff;}#sk-container-id-58 input.sk-toggleable__control:checked~div.sk-toggleable__content {max-height: 200px;max-width: 100%;overflow: auto;}#sk-container-id-58 input.sk-toggleable__control:checked~label.sk-toggleable__label-arrow:before {content: \"▾\";}#sk-container-id-58 div.sk-estimator input.sk-toggleable__control:checked~label.sk-toggleable__label {background-color: #d4ebff;}#sk-container-id-58 div.sk-label input.sk-toggleable__control:checked~label.sk-toggleable__label {background-color: #d4ebff;}#sk-container-id-58 input.sk-hidden--visually {border: 0;clip: rect(1px 1px 1px 1px);clip: rect(1px, 1px, 1px, 1px);height: 1px;margin: -1px;overflow: hidden;padding: 0;position: absolute;width: 1px;}#sk-container-id-58 div.sk-estimator {font-family: monospace;background-color: #f0f8ff;border: 1px dotted black;border-radius: 0.25em;box-sizing: border-box;margin-bottom: 0.5em;}#sk-container-id-58 div.sk-estimator:hover {background-color: #d4ebff;}#sk-container-id-58 div.sk-parallel-item::after {content: \"\";width: 100%;border-bottom: 1px solid gray;flex-grow: 1;}#sk-container-id-58 div.sk-label:hover label.sk-toggleable__label {background-color: #d4ebff;}#sk-container-id-58 div.sk-serial::before {content: \"\";position: absolute;border-left: 1px solid gray;box-sizing: border-box;top: 0;bottom: 0;left: 50%;z-index: 0;}#sk-container-id-58 div.sk-serial {display: flex;flex-direction: column;align-items: center;background-color: white;padding-right: 0.2em;padding-left: 0.2em;position: relative;}#sk-container-id-58 div.sk-item {position: relative;z-index: 1;}#sk-container-id-58 div.sk-parallel {display: flex;align-items: stretch;justify-content: center;background-color: white;position: relative;}#sk-container-id-58 div.sk-item::before, #sk-container-id-58 div.sk-parallel-item::before {content: \"\";position: absolute;border-left: 1px solid gray;box-sizing: border-box;top: 0;bottom: 0;left: 50%;z-index: -1;}#sk-container-id-58 div.sk-parallel-item {display: flex;flex-direction: column;z-index: 1;position: relative;background-color: white;}#sk-container-id-58 div.sk-parallel-item:first-child::after {align-self: flex-end;width: 50%;}#sk-container-id-58 div.sk-parallel-item:last-child::after {align-self: flex-start;width: 50%;}#sk-container-id-58 div.sk-parallel-item:only-child::after {width: 0;}#sk-container-id-58 div.sk-dashed-wrapped {border: 1px dashed gray;margin: 0 0.4em 0.5em 0.4em;box-sizing: border-box;padding-bottom: 0.4em;background-color: white;}#sk-container-id-58 div.sk-label label {font-family: monospace;font-weight: bold;display: inline-block;line-height: 1.2em;}#sk-container-id-58 div.sk-label-container {text-align: center;}#sk-container-id-58 div.sk-container {/* jupyter's `normalize.less` sets `[hidden] { display: none; }` but bootstrap.min.css set `[hidden] { display: none !important; }` so we also need the `!important` here to be able to override the default hidden behavior on the sphinx rendered scikit-learn.org. See: https://github.com/scikit-learn/scikit-learn/issues/21755 */display: inline-block !important;position: relative;}#sk-container-id-58 div.sk-text-repr-fallback {display: none;}</style><div id=\"sk-container-id-58\" class=\"sk-top-container\"><div class=\"sk-text-repr-fallback\"><pre>KNeighborsClassifier(algorithm=&#x27;ball_tree&#x27;, leaf_size=10, metric=&#x27;manhattan&#x27;,\n",
       "                     n_jobs=-1, n_neighbors=8, weights=&#x27;distance&#x27;)</pre><b>In a Jupyter environment, please rerun this cell to show the HTML representation or trust the notebook. <br />On GitHub, the HTML representation is unable to render, please try loading this page with nbviewer.org.</b></div><div class=\"sk-container\" hidden><div class=\"sk-item\"><div class=\"sk-estimator sk-toggleable\"><input class=\"sk-toggleable__control sk-hidden--visually\" id=\"sk-estimator-id-146\" type=\"checkbox\" checked><label for=\"sk-estimator-id-146\" class=\"sk-toggleable__label sk-toggleable__label-arrow\">KNeighborsClassifier</label><div class=\"sk-toggleable__content\"><pre>KNeighborsClassifier(algorithm=&#x27;ball_tree&#x27;, leaf_size=10, metric=&#x27;manhattan&#x27;,\n",
       "                     n_jobs=-1, n_neighbors=8, weights=&#x27;distance&#x27;)</pre></div></div></div></div></div>"
      ],
      "text/plain": [
       "KNeighborsClassifier(algorithm='ball_tree', leaf_size=10, metric='manhattan',\n",
       "                     n_jobs=-1, n_neighbors=8, weights='distance')"
      ]
     },
     "execution_count": 963,
     "metadata": {},
     "output_type": "execute_result"
    }
   ],
   "source": [
    "print(search_rd.best_params_[\"n_neighbors\"])\n",
    "final_model = search_rd.best_estimator_\n",
    "\n",
    "final_model.fit(X_train,y_train) # refit with entire train set\n"
   ]
  },
  {
   "cell_type": "markdown",
   "metadata": {},
   "source": [
    "Discover model's performance on the **unseen** test set `X_test`. Compute the r2 score for the test set"
   ]
  },
  {
   "cell_type": "code",
   "execution_count": null,
   "metadata": {
    "ExecuteTime": {
     "end_time": "2021-05-14T11:38:43.845405Z",
     "start_time": "2021-05-14T11:38:43.828119Z"
    },
    "tags": []
   },
   "outputs": [
    {
     "name": "stdout",
     "output_type": "stream",
     "text": [
      "0.8982677590152766\n"
     ]
    }
   ],
   "source": [
    "\n",
    "from sklearn.metrics import f1_score\n",
    "y_pred = final_model.predict(X_test) # X_test -> unseen data\n",
    "\n",
    "f1_test = f1_score(y_test,y_pred,average=\"weighted\")\n",
    "print(f1_test)"
   ]
  }
 ],
 "metadata": {
  "kernelspec": {
   "display_name": "Python 3 (ipykernel)",
   "language": "python",
   "name": "python3"
  },
  "language_info": {
   "codemirror_mode": {
    "name": "ipython",
    "version": 3
   },
   "file_extension": ".py",
   "mimetype": "text/x-python",
   "name": "python",
   "nbconvert_exporter": "python",
   "pygments_lexer": "ipython3",
   "version": "3.9.17"
  },
  "toc": {
   "base_numbering": 1,
   "nav_menu": {},
   "number_sections": false,
   "sideBar": true,
   "skip_h1_title": false,
   "title_cell": "Table of Contents",
   "title_sidebar": "Contents",
   "toc_cell": false,
   "toc_position": {},
   "toc_section_display": true,
   "toc_window_display": true
  },
  "varInspector": {
   "cols": {
    "lenName": 16,
    "lenType": 16,
    "lenVar": 40
   },
   "kernels_config": {
    "python": {
     "delete_cmd_postfix": "",
     "delete_cmd_prefix": "del ",
     "library": "var_list.py",
     "varRefreshCmd": "print(var_dic_list())"
    },
    "r": {
     "delete_cmd_postfix": ") ",
     "delete_cmd_prefix": "rm(",
     "library": "var_list.r",
     "varRefreshCmd": "cat(var_dic_list()) "
    }
   },
   "types_to_exclude": [
    "module",
    "function",
    "builtin_function_or_method",
    "instance",
    "_Feature"
   ],
   "window_display": false
  }
 },
 "nbformat": 4,
 "nbformat_minor": 4
}
